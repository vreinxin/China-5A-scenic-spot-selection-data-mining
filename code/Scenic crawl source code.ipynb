{
 "cells": [
  {
   "cell_type": "code",
   "execution_count": null,
   "id": "e2435c7ad8df9d7a",
   "metadata": {
    "ExecuteTime": {
     "start_time": "2024-07-03T03:21:28.665257Z"
    },
    "jupyter": {
     "is_executing": true
    }
   },
   "outputs": [],
   "source": [
    "import requests\n",
    "from bs4 import BeautifulSoup\n",
    "from fake_useragent import UserAgent\n",
    "import csv\n",
    "import os\n",
    "\n",
    "# 创建一个会话对象\n",
    "session = requests.Session()\n",
    "\n",
    "# 设置User-Agent\n",
    "user_agent = UserAgent()\n",
    "headers = {'User-Agent': user_agent.random}\n",
    "\n",
    "# 基础URL\n",
    "base_url = 'https://zwfw.mct.gov.cn/scenicspot?ssName=&province=&ssYear=&type=gb'\n",
    "\n",
    "# 存储所有景区信息的列表\n",
    "all_scenic_spots = []\n",
    "\n",
    "# 翻页功能，爬取指定页面的数据\n",
    "def fetch_page_data(page_num):\n",
    "    page_url = f\"{base_url}&pageNum={page_num}\"\n",
    "    try:\n",
    "        response = session.get(page_url, headers=headers, timeout=10)\n",
    "        if response.status_code == 200:\n",
    "            soup = BeautifulSoup(response.text, 'html.parser')\n",
    "            table = soup.find('table')\n",
    "            if table:\n",
    "                for spot in table.find_all('tr')[1:]:  # 跳过表头\n",
    "                    columns = [td.text.strip() for td in spot.find_all('td')]\n",
    "                    if len(columns) >= 3:\n",
    "                        # 提取景区名称和所属地区，这里假设名称和地区在前两列\n",
    "                        name = columns[0]\n",
    "                        location = columns[1]\n",
    "                        year  = columns[2]\n",
    "                        all_scenic_spots.append((name, location,year))\n",
    "            else:\n",
    "                print('没有找到包含景区信息的表格。')\n",
    "        else:\n",
    "            print(f'Failed to retrieve content, status code: {response.status_code}')\n",
    "    except requests.exceptions.RequestException as e:\n",
    "        print(f'请求过程中发生错误：{e}')\n",
    "\n",
    "# 爬取指定页面，这里以第二页和第三页为例\n",
    "for i in range(1,24):\n",
    "    fetch_page_data(i)\n",
    "\n",
    "# 指定CSV文件的保存路径\n",
    "csv_folder = r'C:\\Users\\kkiop\\Desktop\\data'\n",
    "csv_file = os.path.join(csv_folder, 'scenic_spots.csv')\n",
    "\n",
    "# 确保文件夹存在\n",
    "if not os.path.exists(csv_folder):\n",
    "    os.makedirs(csv_folder)\n",
    "\n",
    "# 将数据保存到CSV文件\n",
    "with open(csv_file, 'w', newline='', encoding='utf-8-sig') as file:\n",
    "    writer = csv.writer(file)\n",
    "    # 写入标题行\n",
    "    writer.writerow(['景区名称', '所属地区','评定年份'])\n",
    "    # 写入数据行\n",
    "    for spot in all_scenic_spots:\n",
    "        writer.writerow(spot)\n",
    "\n",
    "print(f'数据已保存到 {csv_file}')"
   ]
  },
  {
   "cell_type": "code",
   "execution_count": 35,
   "id": "85cd6957422b1752",
   "metadata": {
    "ExecuteTime": {
     "end_time": "2024-07-03T03:11:19.385163Z",
     "start_time": "2024-07-03T03:11:19.383575Z"
    }
   },
   "outputs": [],
   "source": []
  }
 ],
 "metadata": {
  "kernelspec": {
   "display_name": "Python 3",
   "language": "python",
   "name": "python3"
  },
  "language_info": {
   "codemirror_mode": {
    "name": "ipython",
    "version": 2
   },
   "file_extension": ".py",
   "mimetype": "text/x-python",
   "name": "python",
   "nbconvert_exporter": "python",
   "pygments_lexer": "ipython2",
   "version": "2.7.6"
  }
 },
 "nbformat": 4,
 "nbformat_minor": 5
}
